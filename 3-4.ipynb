{
 "cells": [
  {
   "cell_type": "code",
   "execution_count": 1,
   "metadata": {},
   "outputs": [],
   "source": [
    "def adj_matrix_2_list(adj_matrix):\n",
    "    n = len(adj_matrix)\n",
    "    adj_list = [[] for i in range(n)]\n",
    "    for i in range(n):\n",
    "        for j in range(i+1, n):\n",
    "            if adj_matrix[i][j] == 1:\n",
    "                adj_list[i].append(j)\n",
    "                adj_list[j].append(i)    #變成adj list存每個點的鄰居\n",
    "            \n",
    "    return adj_list\n",
    "\n",
    "def adj_matrix_2_edges(adj_matrix):\n",
    "    n = len(adj_matrix)\n",
    "    edges = set()\n",
    "    for i in range(n):\n",
    "        for j in range(i+1, n):\n",
    "            if adj_matrix[i][j] == 1:\n",
    "                edges.add((i,j))    #存graph內有哪些邊(由兩端點構成)\n",
    "              \n",
    "    return edges\n",
    "\n",
    "import random\n",
    "def approximation_vertex_cover(adj_matrix):\n",
    "    adj_list = adj_matrix_2_list(adj_matrix)\n",
    "    edges = adj_matrix_2_edges(adj_matrix)\n",
    "    \n",
    "    vertex_cover = []\n",
    "    while edges:\n",
    "        x, y = random.choice(tuple(edges))    #隨機挑一邊\n",
    "        print(x, y)\n",
    "        vertex_cover.append(x)  #將邊的兩端點加入vertex cover\n",
    "        vertex_cover.append(y)\n",
    "        for adj in adj_list[x]:\n",
    "            edges.discard((min(x,adj), max(x,adj)))  #將兩端點連接到的邊都從圖中刪除\n",
    "        for adj in adj_list[y]:\n",
    "            edges.discard((min(y,adj), max(y,adj)))\n",
    "            \n",
    "    size = len(vertex_cover)\n",
    "    count[size -1] =count[size -1] + 1    #將vertex cover size出現頻率存入count ex:count[6]=3代表size為6的出現過3次S\n",
    "            \n",
    "    print(\"size: \", len(vertex_cover))\n",
    "    print(\"-----------\")"
   ]
  },
  {
   "cell_type": "code",
   "execution_count": 2,
   "metadata": {},
   "outputs": [
    {
     "name": "stdout",
     "output_type": "stream",
     "text": [
      "1 -th round:\n",
      "0 1\n",
      "3 6\n",
      "4 5\n",
      "size:  6\n",
      "-----------\n",
      "2 -th round:\n",
      "6 7\n",
      "4 5\n",
      "0 1\n",
      "2 3\n",
      "size:  8\n",
      "-----------\n",
      "3 -th round:\n",
      "2 5\n",
      "6 7\n",
      "0 1\n",
      "size:  6\n",
      "-----------\n",
      "4 -th round:\n",
      "0 1\n",
      "2 5\n",
      "6 7\n",
      "size:  6\n",
      "-----------\n",
      "5 -th round:\n",
      "4 5\n",
      "3 6\n",
      "1 2\n",
      "size:  6\n",
      "-----------\n",
      "6 -th round:\n",
      "5 7\n",
      "2 3\n",
      "1 4\n",
      "size:  6\n",
      "-----------\n",
      "7 -th round:\n",
      "0 1\n",
      "4 5\n",
      "6 7\n",
      "2 3\n",
      "size:  8\n",
      "-----------\n",
      "8 -th round:\n",
      "5 6\n",
      "0 2\n",
      "4 7\n",
      "size:  6\n",
      "-----------\n",
      "9 -th round:\n",
      "4 5\n",
      "1 2\n",
      "6 7\n",
      "0 3\n",
      "size:  8\n",
      "-----------\n",
      "10 -th round:\n",
      "5 6\n",
      "2 3\n",
      "0 1\n",
      "4 7\n",
      "size:  8\n",
      "-----------\n"
     ]
    }
   ],
   "source": [
    "graph = [[0, 1, 1, 1, 0, 0, 0, 0],\n",
    "         [1, 0, 1, 0, 1, 0, 0, 0],\n",
    "         [1, 1, 0, 1, 0, 1, 0, 0],\n",
    "         [1, 0, 1, 0, 0, 0, 1, 0],\n",
    "         [0, 1, 0, 0, 0, 1, 0, 1],\n",
    "         [0, 0, 1, 0, 1, 0, 1, 1],\n",
    "         [0, 0, 0, 1, 0, 1, 0, 1],\n",
    "         [0, 0, 0, 0, 1, 1, 1, 0]]\n",
    "\n",
    "count = [0 for i in range(len(graph))]\n",
    "vol = [j+1 for j in range(len(graph))]\n",
    "\n",
    "for i in range(10):\n",
    "    print(i+1,\"-th round:\")\n",
    "    approximation_vertex_cover(graph)\n",
    "    "
   ]
  },
  {
   "cell_type": "code",
   "execution_count": 3,
   "metadata": {},
   "outputs": [
    {
     "data": {
      "image/png": "[encoded data removed]",
      "text/plain": [
       "<Figure size 432x288 with 1 Axes>"
      ]
     },
     "metadata": {
      "needs_background": "light"
     },
     "output_type": "display_data"
    }
   ],
   "source": [
    "import matplotlib.pyplot as plt\n",
    "\n",
    "plt.bar(vol, count)\n",
    "plt.show()"
   ]
  },
  {
   "cell_type": "code",
   "execution_count": null,
   "metadata": {},
   "outputs": [],
   "source": []
  }
 ],
 "metadata": {
  "kernelspec": {
   "display_name": "Python 3",
   "language": "python",
   "name": "python3"
  },
  "language_info": {
   "codemirror_mode": {
    "name": "ipython",
    "version": 3
   },
   "file_extension": ".py",
   "mimetype": "text/x-python",
   "name": "python",
   "nbconvert_exporter": "python",
   "pygments_lexer": "ipython3",
   "version": "3.7.6"
  }
 },
 "nbformat": 4,
 "nbformat_minor": 4
}
