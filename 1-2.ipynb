{
 "cells": [
  {
   "cell_type": "code",
   "execution_count": 1,
   "metadata": {},
   "outputs": [],
   "source": [
    "from collections import Counter\n",
    "def ContinueKNums(A,k):\n",
    "    if not A:\n",
    "        return k==0\n",
    "    if len(A)%k!=0:\n",
    "        return False\n",
    "    card_count=Counter(A)\n",
    "    while card_count:\n",
    "        card,count=card_count.popitem()\n",
    "        card_count[card]=count\n",
    "        \n",
    "        smallest_card=card\n",
    "        while smallest_card in card_count:\n",
    "            smallest_card-=1\n",
    "        smallest_card+=1\n",
    "        \n",
    "        opened=0\n",
    "        bottom={}\n",
    "        current_card=smallest_card\n",
    "        while current_card in card_count:\n",
    "            count=card_count.pop(current_card)\n",
    "            if count<opened:\n",
    "                return False\n",
    "            \n",
    "            bottom[current_card]=count-opened\n",
    "            group_bottom=bottom.get(current_card-k+1,0)\n",
    "            opened=opened+bottom[current_card]-group_bottom\n",
    "            current_card+=1\n",
    "            \n",
    "        if opened>0:\n",
    "            return False\n",
    "        \n",
    "    return True     "
   ]
  },
  {
   "cell_type": "code",
   "execution_count": 2,
   "metadata": {},
   "outputs": [
    {
     "data": {
      "text/plain": [
       "False"
      ]
     },
     "execution_count": 2,
     "metadata": {},
     "output_type": "execute_result"
    }
   ],
   "source": [
    "A=[1,2,3,1,2,3]\n",
    "k=2\n",
    "ContinueKNums(A,k)"
   ]
  },
  {
   "cell_type": "code",
   "execution_count": null,
   "metadata": {},
   "outputs": [],
   "source": []
  }
 ],
 "metadata": {
  "kernelspec": {
   "display_name": "Python 3",
   "language": "python",
   "name": "python3"
  },
  "language_info": {
   "codemirror_mode": {
    "name": "ipython",
    "version": 3
   },
   "file_extension": ".py",
   "mimetype": "text/x-python",
   "name": "python",
   "nbconvert_exporter": "python",
   "pygments_lexer": "ipython3",
   "version": "3.7.6"
  }
 },
 "nbformat": 4,
 "nbformat_minor": 4
}
