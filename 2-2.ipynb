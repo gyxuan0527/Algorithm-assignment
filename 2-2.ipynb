{
 "cells": [
  {
   "cell_type": "code",
   "execution_count": 4,
   "metadata": {},
   "outputs": [],
   "source": [
    "def maxProfit(A, B):\n",
    "        n = len(A)\n",
    "        if(n <= 1):         #if we only have day less than 1, we will not perform any transaction\n",
    "            return 0\n",
    "        \n",
    "        buy = 0       #before DP, we should set max profit if you start to buy after the last day as 0 #dp1[n-1]\n",
    "        sell = A[n-1]  #before DP, we should set max profit if you start to sell after the last day as +A[n-1](the last day's price) #dp2[n-1]\n",
    "\n",
    "        for i in range(n-2, -1, -1):\n",
    "            buy = max(buy, sell-A[i]-B)  #consider(not buy at day i or buy at day i)   #dp1[i]=max(dp1[i+1],dp2[i+1]-A[i]-B)\n",
    "            sell = max(sell, A[i]+buy)    #consider(not sell at day i or sell at day i)#dp2[i]=max(dp2[i+1],A[i]+dp1[i+1])\n",
    "            \n",
    "        return buy   #return the max profit after a series of transaction(buy and sell)"
   ]
  },
  {
   "cell_type": "code",
   "execution_count": 7,
   "metadata": {},
   "outputs": [
    {
     "data": {
      "text/plain": [
       "0"
      ]
     },
     "execution_count": 7,
     "metadata": {},
     "output_type": "execute_result"
    }
   ],
   "source": [
    "A=[1]\n",
    "B=2\n",
    "maxProfit(A,B)"
   ]
  },
  {
   "cell_type": "code",
   "execution_count": null,
   "metadata": {},
   "outputs": [],
   "source": []
  }
 ],
 "metadata": {
  "kernelspec": {
   "display_name": "Python 3",
   "language": "python",
   "name": "python3"
  },
  "language_info": {
   "codemirror_mode": {
    "name": "ipython",
    "version": 3
   },
   "file_extension": ".py",
   "mimetype": "text/x-python",
   "name": "python",
   "nbconvert_exporter": "python",
   "pygments_lexer": "ipython3",
   "version": "3.7.6"
  }
 },
 "nbformat": 4,
 "nbformat_minor": 4
}
