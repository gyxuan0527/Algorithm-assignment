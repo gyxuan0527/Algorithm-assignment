{
 "cells": [
  {
   "cell_type": "code",
   "execution_count": 1,
   "metadata": {},
   "outputs": [],
   "source": [
    "#you(B) and I(A) are playing the game,take the 1-st round as an example(Me(A) -> You(B))\n",
    "def twentyone_point(N,T):\n",
    "    seen = {}         #store the state we have ever seen and the result of the combination(win or lose)\n",
    "    \n",
    "    def win(choice, thre_remain):\n",
    "            if choice[-1] >= thre_remain:\n",
    "                return True         # if the largest choice exceeds the remaining of the threshold, then I can win\n",
    "            \n",
    "            seen_key = tuple(choice)  #seen_key: state  ,seen[seen_key]: the state's outcome\n",
    "            if seen_key in seen:      \n",
    "                return seen[seen_key]  #if we have seen the state before,then we know the outcome\n",
    "\n",
    "            for index in range(len(choice)): #my turn, I pick each choices I can choose and compute whethere I can win or not according to your outcome I compute\n",
    "                if not win(choice[:index] + choice[index + 1:], thre_remain - choice[index]): #your turn\n",
    "                    seen[seen_key] = True  #if the result of your turn is False,means I can win(enter the \"if\" and return true)\n",
    "                    return True\n",
    "\n",
    "            seen[seen_key] = False\n",
    "            return False      #I have tried all of the choices I can choose and find I have no chance to win \n",
    "\n",
    "    Sum = (N +1)* N /2    #summed up all the choices can use \n",
    "\n",
    "    if Sum <T:           \n",
    "        return False       #if the sum of all the choices less then the threshold,nobody can win\n",
    "    \n",
    "    elif Sum == T:           #if the sum exactly equls to the threshold->I will win if there is an odd number of turns\n",
    "        if(N % 2 == 0):\n",
    "            return False\n",
    "        else:\n",
    "            return True\n",
    "    #none of the above\n",
    "    choice = list(range(1, N + 1))  #all of the choices we can choose\n",
    "    return win(choice, T)"
   ]
  },
  {
   "cell_type": "code",
   "execution_count": 2,
   "metadata": {},
   "outputs": [
    {
     "data": {
      "text/plain": [
       "False"
      ]
     },
     "execution_count": 2,
     "metadata": {},
     "output_type": "execute_result"
    }
   ],
   "source": [
    "N=6\n",
    "T=7\n",
    "twentyone_point(N,T)"
   ]
  },
  {
   "cell_type": "code",
   "execution_count": null,
   "metadata": {},
   "outputs": [],
   "source": []
  }
 ],
 "metadata": {
  "kernelspec": {
   "display_name": "Python 3",
   "language": "python",
   "name": "python3"
  },
  "language_info": {
   "codemirror_mode": {
    "name": "ipython",
    "version": 3
   },
   "file_extension": ".py",
   "mimetype": "text/x-python",
   "name": "python",
   "nbconvert_exporter": "python",
   "pygments_lexer": "ipython3",
   "version": "3.7.6"
  }
 },
 "nbformat": 4,
 "nbformat_minor": 4
}
