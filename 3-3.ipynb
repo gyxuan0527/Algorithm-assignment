{
 "cells": [
  {
   "cell_type": "code",
   "execution_count": 1,
   "metadata": {},
   "outputs": [],
   "source": [
    "def BFS(s, t, adj_matrix, prev):\n",
    "    n = len(adj_matrix)\n",
    "    queue = []\n",
    "    visited = [False] * n      #initialize visted to False\n",
    "    \n",
    "    queue.append(s)\n",
    "    visited[s] = True          #mark visited[source] to True\n",
    "    \n",
    "    while queue:\n",
    "        x = queue.pop(0)       \n",
    "        if x == t:\n",
    "            return True\n",
    "        for y, w in enumerate(adj_matrix[x]):   #找和x有邊相連的鄰居且visited=False :y\n",
    "            if w > 0 and not visited[y]:\n",
    "                visited[y] = True               #mark visited[y] as True\n",
    "                prev[y] = x                     #代表y是從x走來的\n",
    "                queue.append(y)                 #將y放進queue(代表待找y的鄰居)\n",
    "    \n",
    "    return False\n",
    "\n",
    "import copy\n",
    "def ford_fulkerson(s, t, adj_matrix):\n",
    "    adj_matrix_copy = copy.deepcopy(adj_matrix)      #為了找最後每一邊流經過多少水量\n",
    "    n = len(adj_matrix)\n",
    "    prev = [-1] * n        #initialize prev to -1\n",
    "    max_flow = 0\n",
    "    \n",
    "    while BFS(s, t, adj_matrix, prev):\n",
    "        bottleneck = float(\"inf\")    #不斷trace back找路徑中最小的capacity\n",
    "        x = t\n",
    "        while x != s:\n",
    "            bottleneck = min(bottleneck, adj_matrix[prev[x]][x])\n",
    "            x = prev[x]\n",
    "        \n",
    "        x = t                 #將正向-bottleneck(=剩餘可流量)  反向+bottleneck(=可退水量)\n",
    "        while x != s:\n",
    "            adj_matrix[prev[x]][x] -= bottleneck\n",
    "            adj_matrix[x][prev[x]] += bottleneck\n",
    "            x = prev[x]\n",
    "            \n",
    "        max_flow += bottleneck\n",
    "\n",
    "    print(\"max flow: \", max_flow)\n",
    "\n",
    "    print(\"Flow network: \")\n",
    "    flow_matrix = [[0 for i in range(n)] for j in range(n)]\n",
    "    for i in range(n):\n",
    "        for j in range(n):\n",
    "            flow_matrix[i][j] = adj_matrix_copy[i][j] - adj_matrix[i][j]  #原本capacity-剩餘capacity=流經過水量\n",
    "            if flow_matrix[i][j] < 0:\n",
    "                flow_matrix[i][j] =0\n",
    "        print(flow_matrix[i])"
   ]
  },
  {
   "cell_type": "code",
   "execution_count": 2,
   "metadata": {},
   "outputs": [
    {
     "name": "stdout",
     "output_type": "stream",
     "text": [
      "max flow:  26\n",
      "Flow network: \n",
      "[0, 12, 6, 8, 0, 0, 0, 0]\n",
      "[0, 0, 0, 0, 12, 0, 0, 0]\n",
      "[0, 0, 0, 3, 0, 3, 0, 0]\n",
      "[0, 0, 0, 0, 0, 0, 11, 0]\n",
      "[0, 0, 0, 0, 0, 0, 0, 12]\n",
      "[0, 0, 0, 0, 0, 0, 0, 3]\n",
      "[0, 0, 0, 0, 0, 0, 0, 11]\n",
      "[0, 0, 0, 0, 0, 0, 0, 0]\n"
     ]
    }
   ],
   "source": [
    "graph = [[0, 14, 6, 8, 0, 0, 0, 0],\n",
    "         [0, 0, 0, 0,12, 0, 0, 0],\n",
    "         [0, 10, 0, 9, 0, 14, 0, 0],\n",
    "         [0, 0, 0, 0, 0, 0, 18, 0],\n",
    "         [0, 0, 0, 0, 0, 0, 0, 17],\n",
    "         [0, 0, 0, 0, 0, 0, 5,  3],\n",
    "         [0, 0, 0, 0, 0, 0, 0,  19],\n",
    "         [0, 0, 0, 0, 0, 0, 0,  0]]\n",
    "\n",
    "ford_fulkerson(0, 7, graph)"
   ]
  },
  {
   "cell_type": "code",
   "execution_count": null,
   "metadata": {},
   "outputs": [],
   "source": []
  }
 ],
 "metadata": {
  "kernelspec": {
   "display_name": "Python 3",
   "language": "python",
   "name": "python3"
  },
  "language_info": {
   "codemirror_mode": {
    "name": "ipython",
    "version": 3
   },
   "file_extension": ".py",
   "mimetype": "text/x-python",
   "name": "python",
   "nbconvert_exporter": "python",
   "pygments_lexer": "ipython3",
   "version": "3.7.6"
  }
 },
 "nbformat": 4,
 "nbformat_minor": 4
}
