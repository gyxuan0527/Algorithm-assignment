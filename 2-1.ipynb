{
 "cells": [
  {
   "cell_type": "code",
   "execution_count": 1,
   "metadata": {},
   "outputs": [],
   "source": [
    "def ways(N):\n",
    "    if (N == 1):\n",
    "        return 1   #distance between A and B is 1->only 1 possible (1 step)\n",
    "    elif (N <= 0):\n",
    "        return 0   #distance between A and B is 0 or negative(does not exist)->0 step or impossible\n",
    "    elif (isinstance(N,int)==False):\n",
    "        return 0   #distance between A and B(input) is not an integer-> 0 step or impossible\n",
    "    \n",
    "    N =N +1        #if we say distance between A and B= N,it means the lenth of the array=N+1 \n",
    "    nex = 1   #the last two cells(dp[i-1],dp[i-2]) should be filled with 1 in the begining,and then DP start\n",
    "    after_nex = 1\n",
    "    \n",
    "    for i in range(N-3, -1, -1):\n",
    "        curr = nex +after_nex   #dp[i]=dp[i+1]+dp[i+2]\n",
    "        after_nex = nex\n",
    "        nex = curr\n",
    "\n",
    "    return curr         "
   ]
  },
  {
   "cell_type": "code",
   "execution_count": 2,
   "metadata": {},
   "outputs": [
    {
     "data": {
      "text/plain": [
       "8"
      ]
     },
     "execution_count": 2,
     "metadata": {},
     "output_type": "execute_result"
    }
   ],
   "source": [
    "N=5\n",
    "ways(N)"
   ]
  },
  {
   "cell_type": "code",
   "execution_count": null,
   "metadata": {},
   "outputs": [],
   "source": []
  }
 ],
 "metadata": {
  "kernelspec": {
   "display_name": "Python 3",
   "language": "python",
   "name": "python3"
  },
  "language_info": {
   "codemirror_mode": {
    "name": "ipython",
    "version": 3
   },
   "file_extension": ".py",
   "mimetype": "text/x-python",
   "name": "python",
   "nbconvert_exporter": "python",
   "pygments_lexer": "ipython3",
   "version": "3.7.6"
  }
 },
 "nbformat": 4,
 "nbformat_minor": 4
}
